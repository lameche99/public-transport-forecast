{
 "cells": [
  {
   "cell_type": "code",
   "execution_count": 1,
   "metadata": {},
   "outputs": [],
   "source": [
    "import pandas as pd\n",
    "import numpy as np\n",
    "from fredapi import Fred\n",
    "from ntdData import cleanNTD\n",
    "from fredData import getCPIs, getMacros\n",
    "from catData import catVars\n",
    "import datetime"
   ]
  },
  {
   "cell_type": "code",
   "execution_count": 2,
   "metadata": {},
   "outputs": [],
   "source": [
    "FRED_KEY = '6d3ab641594afa0ef4eb9521b8ff6f85'\n",
    "frd = Fred(api_key=FRED_KEY)"
   ]
  },
  {
   "cell_type": "code",
   "execution_count": 3,
   "metadata": {},
   "outputs": [],
   "source": [
    "now = datetime.datetime.utcnow()\n",
    "start= datetime.datetime.strftime(now - datetime.timedelta(days=7000),'%Y-%m-%d')\n",
    "end = datetime.datetime.strftime(now + datetime.timedelta(days=1),'%Y-%m-%d')"
   ]
  },
  {
   "cell_type": "code",
   "execution_count": 4,
   "metadata": {},
   "outputs": [],
   "source": [
    "cpis = getCPIs(frd, start_date=start, end_date=now)\n",
    "macros = getMacros(frd, start_date=start, end_date=end)\n",
    "ntd = cleanNTD()"
   ]
  }
 ],
 "metadata": {
  "kernelspec": {
   "display_name": "crypto-bot",
   "language": "python",
   "name": "python3"
  },
  "language_info": {
   "codemirror_mode": {
    "name": "ipython",
    "version": 3
   },
   "file_extension": ".py",
   "mimetype": "text/x-python",
   "name": "python",
   "nbconvert_exporter": "python",
   "pygments_lexer": "ipython3",
   "version": "3.10.0"
  }
 },
 "nbformat": 4,
 "nbformat_minor": 2
}
