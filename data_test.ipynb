{
 "cells": [
  {
   "cell_type": "code",
   "execution_count": 1,
   "metadata": {},
   "outputs": [],
   "source": [
    "import pandas as pd\n",
    "import gc, datetime\n",
    "from fredapi import Fred\n",
    "from ntdData import cleanNTD\n",
    "from fredData import getCPIs, getMacros\n",
    "from catData import catVars\n",
    "gc.enable()"
   ]
  },
  {
   "cell_type": "code",
   "execution_count": 2,
   "metadata": {},
   "outputs": [],
   "source": [
    "FRED_KEY = '6d3ab641594afa0ef4eb9521b8ff6f85'\n",
    "frd = Fred(api_key=FRED_KEY)\n",
    "now = datetime.datetime.utcnow()\n",
    "start = datetime.datetime.strftime(now - datetime.timedelta(days=6971),'%Y-%m-%d')\n",
    "now = datetime.datetime.strftime(now, '%Y-%m-%d')"
   ]
  },
  {
   "cell_type": "code",
   "execution_count": 3,
   "metadata": {},
   "outputs": [
    {
     "name": "stdout",
     "output_type": "stream",
     "text": [
      "2004-10-01\n",
      "2023-11-02\n"
     ]
    }
   ],
   "source": [
    "print(start)\n",
    "print(now)"
   ]
  },
  {
   "cell_type": "code",
   "execution_count": 4,
   "metadata": {},
   "outputs": [
    {
     "name": "stdout",
     "output_type": "stream",
     "text": [
      "[*********************100%***********************]  1 of 1 completed\n"
     ]
    }
   ],
   "source": [
    "cpis = getCPIs(frd, start_date=start, end_date=now)\n",
    "macros = getMacros(frd, start_date=start, end_date=now)\n",
    "ntd = cleanNTD(path='./data/monthly_ridership_2023.xlsx')\n",
    "catVars(ntd)"
   ]
  },
  {
   "cell_type": "code",
   "execution_count": 5,
   "metadata": {},
   "outputs": [
    {
     "data": {
      "text/html": [
       "<div>\n",
       "<style scoped>\n",
       "    .dataframe tbody tr th:only-of-type {\n",
       "        vertical-align: middle;\n",
       "    }\n",
       "\n",
       "    .dataframe tbody tr th {\n",
       "        vertical-align: top;\n",
       "    }\n",
       "\n",
       "    .dataframe thead th {\n",
       "        text-align: right;\n",
       "    }\n",
       "</style>\n",
       "<table border=\"1\" class=\"dataframe\">\n",
       "  <thead>\n",
       "    <tr style=\"text-align: right;\">\n",
       "      <th></th>\n",
       "      <th>State</th>\n",
       "      <th>Mode</th>\n",
       "      <th>UPT</th>\n",
       "      <th>Season</th>\n",
       "      <th>Region</th>\n",
       "    </tr>\n",
       "    <tr>\n",
       "      <th>datetime</th>\n",
       "      <th></th>\n",
       "      <th></th>\n",
       "      <th></th>\n",
       "      <th></th>\n",
       "      <th></th>\n",
       "    </tr>\n",
       "  </thead>\n",
       "  <tbody>\n",
       "    <tr>\n",
       "      <th>2002-01-31</th>\n",
       "      <td>AK</td>\n",
       "      <td>Bus</td>\n",
       "      <td>287620.0</td>\n",
       "      <td>Winter</td>\n",
       "      <td>W</td>\n",
       "    </tr>\n",
       "    <tr>\n",
       "      <th>2002-01-31</th>\n",
       "      <td>AK</td>\n",
       "      <td>Other</td>\n",
       "      <td>0.0</td>\n",
       "      <td>Winter</td>\n",
       "      <td>W</td>\n",
       "    </tr>\n",
       "    <tr>\n",
       "      <th>2002-01-31</th>\n",
       "      <td>AL</td>\n",
       "      <td>Bus</td>\n",
       "      <td>246000.0</td>\n",
       "      <td>Winter</td>\n",
       "      <td>SE</td>\n",
       "    </tr>\n",
       "    <tr>\n",
       "      <th>2002-01-31</th>\n",
       "      <td>AR</td>\n",
       "      <td>Bus</td>\n",
       "      <td>0.0</td>\n",
       "      <td>Winter</td>\n",
       "      <td>SE</td>\n",
       "    </tr>\n",
       "    <tr>\n",
       "      <th>2002-01-31</th>\n",
       "      <td>AR</td>\n",
       "      <td>Rail</td>\n",
       "      <td>0.0</td>\n",
       "      <td>Winter</td>\n",
       "      <td>SE</td>\n",
       "    </tr>\n",
       "  </tbody>\n",
       "</table>\n",
       "</div>"
      ],
      "text/plain": [
       "           State   Mode       UPT  Season Region\n",
       "datetime                                        \n",
       "2002-01-31    AK    Bus  287620.0  Winter      W\n",
       "2002-01-31    AK  Other       0.0  Winter      W\n",
       "2002-01-31    AL    Bus  246000.0  Winter     SE\n",
       "2002-01-31    AR    Bus       0.0  Winter     SE\n",
       "2002-01-31    AR   Rail       0.0  Winter     SE"
      ]
     },
     "execution_count": 5,
     "metadata": {},
     "output_type": "execute_result"
    }
   ],
   "source": [
    "ntd.head()"
   ]
  },
  {
   "cell_type": "code",
   "execution_count": 6,
   "metadata": {},
   "outputs": [
    {
     "data": {
      "text/html": [
       "<div>\n",
       "<style scoped>\n",
       "    .dataframe tbody tr th:only-of-type {\n",
       "        vertical-align: middle;\n",
       "    }\n",
       "\n",
       "    .dataframe tbody tr th {\n",
       "        vertical-align: top;\n",
       "    }\n",
       "\n",
       "    .dataframe thead th {\n",
       "        text-align: right;\n",
       "    }\n",
       "</style>\n",
       "<table border=\"1\" class=\"dataframe\">\n",
       "  <thead>\n",
       "    <tr style=\"text-align: right;\">\n",
       "      <th></th>\n",
       "      <th>CPI</th>\n",
       "      <th>CPIcn</th>\n",
       "      <th>CPIcu</th>\n",
       "    </tr>\n",
       "    <tr>\n",
       "      <th>datetime</th>\n",
       "      <th></th>\n",
       "      <th></th>\n",
       "      <th></th>\n",
       "    </tr>\n",
       "  </thead>\n",
       "  <tbody>\n",
       "    <tr>\n",
       "      <th>2004-10-31</th>\n",
       "      <td>190.8</td>\n",
       "      <td>136.4</td>\n",
       "      <td>136.7</td>\n",
       "    </tr>\n",
       "    <tr>\n",
       "      <th>2004-11-30</th>\n",
       "      <td>191.7</td>\n",
       "      <td>137.6</td>\n",
       "      <td>137.7</td>\n",
       "    </tr>\n",
       "    <tr>\n",
       "      <th>2004-12-31</th>\n",
       "      <td>191.7</td>\n",
       "      <td>138.1</td>\n",
       "      <td>138.4</td>\n",
       "    </tr>\n",
       "    <tr>\n",
       "      <th>2005-01-31</th>\n",
       "      <td>191.6</td>\n",
       "      <td>138.5</td>\n",
       "      <td>138.6</td>\n",
       "    </tr>\n",
       "    <tr>\n",
       "      <th>2005-02-28</th>\n",
       "      <td>192.4</td>\n",
       "      <td>138.6</td>\n",
       "      <td>138.4</td>\n",
       "    </tr>\n",
       "  </tbody>\n",
       "</table>\n",
       "</div>"
      ],
      "text/plain": [
       "              CPI  CPIcn  CPIcu\n",
       "datetime                       \n",
       "2004-10-31  190.8  136.4  136.7\n",
       "2004-11-30  191.7  137.6  137.7\n",
       "2004-12-31  191.7  138.1  138.4\n",
       "2005-01-31  191.6  138.5  138.6\n",
       "2005-02-28  192.4  138.6  138.4"
      ]
     },
     "execution_count": 6,
     "metadata": {},
     "output_type": "execute_result"
    }
   ],
   "source": [
    "cpis.head()"
   ]
  },
  {
   "cell_type": "code",
   "execution_count": 12,
   "metadata": {},
   "outputs": [
    {
     "data": {
      "text/plain": [
       "datetime\n",
       "2004-10-31         NaN\n",
       "2004-11-30   -0.018182\n",
       "2004-12-31    0.000000\n",
       "2005-01-31   -0.018519\n",
       "2005-02-28    0.018868\n",
       "                ...   \n",
       "2023-06-30   -0.027027\n",
       "2023-07-31   -0.027778\n",
       "2023-08-31    0.085714\n",
       "2023-09-30    0.000000\n",
       "2023-10-31    0.000000\n",
       "Freq: M, Name: Unemployment, Length: 229, dtype: float64"
      ]
     },
     "execution_count": 12,
     "metadata": {},
     "output_type": "execute_result"
    }
   ],
   "source": [
    "(macros.Unemployment / 100).pct_change()"
   ]
  },
  {
   "cell_type": "code",
   "execution_count": null,
   "metadata": {},
   "outputs": [],
   "source": []
  }
 ],
 "metadata": {
  "kernelspec": {
   "display_name": "crypto-bot",
   "language": "python",
   "name": "python3"
  },
  "language_info": {
   "codemirror_mode": {
    "name": "ipython",
    "version": 3
   },
   "file_extension": ".py",
   "mimetype": "text/x-python",
   "name": "python",
   "nbconvert_exporter": "python",
   "pygments_lexer": "ipython3",
   "version": "3.10.0"
  }
 },
 "nbformat": 4,
 "nbformat_minor": 2
}
