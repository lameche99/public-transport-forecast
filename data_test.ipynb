{
 "cells": [
  {
   "cell_type": "code",
   "execution_count": 1,
   "metadata": {},
   "outputs": [],
   "source": [
    "import pandas as pd\n",
    "import gc, datetime\n",
    "from fredapi import Fred\n",
    "from ntdData import cleanNTD\n",
    "from fredData import getCPIs, getMacros\n",
    "from catData import catVars\n",
    "gc.enable()"
   ]
  },
  {
   "cell_type": "code",
   "execution_count": 2,
   "metadata": {},
   "outputs": [],
   "source": [
    "FRED_KEY = '6d3ab641594afa0ef4eb9521b8ff6f85'\n",
    "frd = Fred(api_key=FRED_KEY)\n",
    "now = datetime.datetime.utcnow()\n",
    "start = datetime.datetime.strftime(now - datetime.timedelta(days=6971),'%Y-%m-%d')\n",
    "now = datetime.datetime.strftime(now, '%Y-%m-%d')"
   ]
  },
  {
   "cell_type": "code",
   "execution_count": 3,
   "metadata": {},
   "outputs": [
    {
     "name": "stdout",
     "output_type": "stream",
     "text": [
      "[*********************100%***********************]  1 of 1 completed\n"
     ]
    }
   ],
   "source": [
    "cpis = getCPIs(frd, start_date=start, end_date=now)\n",
    "macros = getMacros(frd, start_date=start, end_date=now)\n",
    "ntd = cleanNTD(path='./data/monthly_ridership_2023.xlsx')\n",
    "catVars(ntd)"
   ]
  },
  {
   "cell_type": "code",
   "execution_count": 7,
   "metadata": {},
   "outputs": [],
   "source": [
    "ntd.reset_index(inplace=True)\n",
    "cpis.reset_index(inplace=True)\n",
    "macros.reset_index(inplace=True)"
   ]
  },
  {
   "cell_type": "code",
   "execution_count": 11,
   "metadata": {},
   "outputs": [],
   "source": [
    "x1 = macros.merge(ntd, how='inner', on='datetime')\n",
    "x2 = x1.merge(cpis, how='inner', on='datetime')"
   ]
  },
  {
   "cell_type": "code",
   "execution_count": 14,
   "metadata": {},
   "outputs": [],
   "source": [
    "x2.dropna(axis=0, inplace=True)"
   ]
  },
  {
   "cell_type": "code",
   "execution_count": 16,
   "metadata": {},
   "outputs": [],
   "source": [
    "x2.to_csv('./data/transportation.csv')"
   ]
  },
  {
   "cell_type": "code",
   "execution_count": null,
   "metadata": {},
   "outputs": [],
   "source": []
  }
 ],
 "metadata": {
  "kernelspec": {
   "display_name": "crypto-bot",
   "language": "python",
   "name": "python3"
  },
  "language_info": {
   "codemirror_mode": {
    "name": "ipython",
    "version": 3
   },
   "file_extension": ".py",
   "mimetype": "text/x-python",
   "name": "python",
   "nbconvert_exporter": "python",
   "pygments_lexer": "ipython3",
   "version": "3.10.0"
  }
 },
 "nbformat": 4,
 "nbformat_minor": 2
}
