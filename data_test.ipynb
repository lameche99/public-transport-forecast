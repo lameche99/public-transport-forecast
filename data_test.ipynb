{
 "cells": [
  {
   "cell_type": "code",
   "execution_count": 5,
   "metadata": {},
   "outputs": [],
   "source": [
    "import pandas as pd\n",
    "from fredapi import Fred\n",
    "from data_cleaner import getMacros, getCPIs, cleanNTD\n",
    "import datetime"
   ]
  },
  {
   "cell_type": "code",
   "execution_count": 6,
   "metadata": {},
   "outputs": [],
   "source": [
    "FRED_KEY = '6d3ab641594afa0ef4eb9521b8ff6f85'\n",
    "frd = Fred(api_key=FRED_KEY)"
   ]
  },
  {
   "cell_type": "code",
   "execution_count": 7,
   "metadata": {},
   "outputs": [],
   "source": [
    "now = datetime.datetime.utcnow()\n",
    "start= datetime.datetime.strftime(now - datetime.timedelta(days=7000),'%Y-%m-%d')\n",
    "end = datetime.datetime.strftime(now + datetime.timedelta(days=1),'%Y-%m-%d')"
   ]
  },
  {
   "cell_type": "code",
   "execution_count": 8,
   "metadata": {},
   "outputs": [],
   "source": [
    "cpis = getCPIs(frd, start_date=start, end_date=now)\n",
    "macros = getMacros(frd, start_date=start, end_date=end)\n",
    "ntd = cleanNTD()"
   ]
  },
  {
   "cell_type": "code",
   "execution_count": 9,
   "metadata": {},
   "outputs": [
    {
     "data": {
      "text/html": [
       "<div>\n",
       "<style scoped>\n",
       "    .dataframe tbody tr th:only-of-type {\n",
       "        vertical-align: middle;\n",
       "    }\n",
       "\n",
       "    .dataframe tbody tr th {\n",
       "        vertical-align: top;\n",
       "    }\n",
       "\n",
       "    .dataframe thead th {\n",
       "        text-align: right;\n",
       "    }\n",
       "</style>\n",
       "<table border=\"1\" class=\"dataframe\">\n",
       "  <thead>\n",
       "    <tr style=\"text-align: right;\">\n",
       "      <th></th>\n",
       "      <th>CPI</th>\n",
       "      <th>CPIcn</th>\n",
       "      <th>CPIcu</th>\n",
       "    </tr>\n",
       "    <tr>\n",
       "      <th>datetime</th>\n",
       "      <th></th>\n",
       "      <th></th>\n",
       "      <th></th>\n",
       "    </tr>\n",
       "  </thead>\n",
       "  <tbody>\n",
       "    <tr>\n",
       "      <th>2004-07-31</th>\n",
       "      <td>189.2</td>\n",
       "      <td>135.9</td>\n",
       "      <td>132.0</td>\n",
       "    </tr>\n",
       "    <tr>\n",
       "      <th>2004-08-31</th>\n",
       "      <td>189.8</td>\n",
       "      <td>136.0</td>\n",
       "      <td>135.5</td>\n",
       "    </tr>\n",
       "    <tr>\n",
       "      <th>2004-09-30</th>\n",
       "      <td>190.8</td>\n",
       "      <td>136.4</td>\n",
       "      <td>136.7</td>\n",
       "    </tr>\n",
       "    <tr>\n",
       "      <th>2004-10-31</th>\n",
       "      <td>191.7</td>\n",
       "      <td>137.6</td>\n",
       "      <td>137.7</td>\n",
       "    </tr>\n",
       "    <tr>\n",
       "      <th>2004-11-30</th>\n",
       "      <td>191.7</td>\n",
       "      <td>138.1</td>\n",
       "      <td>138.4</td>\n",
       "    </tr>\n",
       "  </tbody>\n",
       "</table>\n",
       "</div>"
      ],
      "text/plain": [
       "              CPI  CPIcn  CPIcu\n",
       "datetime                       \n",
       "2004-07-31  189.2  135.9  132.0\n",
       "2004-08-31  189.8  136.0  135.5\n",
       "2004-09-30  190.8  136.4  136.7\n",
       "2004-10-31  191.7  137.6  137.7\n",
       "2004-11-30  191.7  138.1  138.4"
      ]
     },
     "execution_count": 9,
     "metadata": {},
     "output_type": "execute_result"
    }
   ],
   "source": [
    "cpis.head()"
   ]
  },
  {
   "cell_type": "code",
   "execution_count": 12,
   "metadata": {},
   "outputs": [
    {
     "data": {
      "text/html": [
       "<div>\n",
       "<style scoped>\n",
       "    .dataframe tbody tr th:only-of-type {\n",
       "        vertical-align: middle;\n",
       "    }\n",
       "\n",
       "    .dataframe tbody tr th {\n",
       "        vertical-align: top;\n",
       "    }\n",
       "\n",
       "    .dataframe thead th {\n",
       "        text-align: right;\n",
       "    }\n",
       "</style>\n",
       "<table border=\"1\" class=\"dataframe\">\n",
       "  <thead>\n",
       "    <tr style=\"text-align: right;\">\n",
       "      <th></th>\n",
       "      <th>Unemployment</th>\n",
       "      <th>WTI</th>\n",
       "      <th>AutoRate</th>\n",
       "      <th>AutoSales</th>\n",
       "      <th>DispIncome</th>\n",
       "    </tr>\n",
       "    <tr>\n",
       "      <th>datetime</th>\n",
       "      <th></th>\n",
       "      <th></th>\n",
       "      <th></th>\n",
       "      <th></th>\n",
       "      <th></th>\n",
       "    </tr>\n",
       "  </thead>\n",
       "  <tbody>\n",
       "    <tr>\n",
       "      <th>2023-05-31</th>\n",
       "      <td>3.6</td>\n",
       "      <td>70.248095</td>\n",
       "      <td>NaN</td>\n",
       "      <td>16.602</td>\n",
       "      <td>50194.0</td>\n",
       "    </tr>\n",
       "    <tr>\n",
       "      <th>2023-06-30</th>\n",
       "      <td>3.5</td>\n",
       "      <td>76.069500</td>\n",
       "      <td>NaN</td>\n",
       "      <td>16.442</td>\n",
       "      <td>50051.0</td>\n",
       "    </tr>\n",
       "    <tr>\n",
       "      <th>2023-07-31</th>\n",
       "      <td>3.8</td>\n",
       "      <td>81.386087</td>\n",
       "      <td>8.12</td>\n",
       "      <td>15.898</td>\n",
       "      <td>49969.0</td>\n",
       "    </tr>\n",
       "    <tr>\n",
       "      <th>2023-08-31</th>\n",
       "      <td>3.8</td>\n",
       "      <td>89.425000</td>\n",
       "      <td>NaN</td>\n",
       "      <td>16.233</td>\n",
       "      <td>49904.0</td>\n",
       "    </tr>\n",
       "    <tr>\n",
       "      <th>2023-09-30</th>\n",
       "      <td>NaN</td>\n",
       "      <td>86.218000</td>\n",
       "      <td>NaN</td>\n",
       "      <td>NaN</td>\n",
       "      <td>NaN</td>\n",
       "    </tr>\n",
       "  </tbody>\n",
       "</table>\n",
       "</div>"
      ],
      "text/plain": [
       "            Unemployment        WTI  AutoRate  AutoSales  DispIncome\n",
       "datetime                                                            \n",
       "2023-05-31           3.6  70.248095       NaN     16.602     50194.0\n",
       "2023-06-30           3.5  76.069500       NaN     16.442     50051.0\n",
       "2023-07-31           3.8  81.386087      8.12     15.898     49969.0\n",
       "2023-08-31           3.8  89.425000       NaN     16.233     49904.0\n",
       "2023-09-30           NaN  86.218000       NaN        NaN         NaN"
      ]
     },
     "execution_count": 12,
     "metadata": {},
     "output_type": "execute_result"
    }
   ],
   "source": [
    "macros.tail()"
   ]
  },
  {
   "cell_type": "code",
   "execution_count": 14,
   "metadata": {},
   "outputs": [
    {
     "data": {
      "text/html": [
       "<div>\n",
       "<style scoped>\n",
       "    .dataframe tbody tr th:only-of-type {\n",
       "        vertical-align: middle;\n",
       "    }\n",
       "\n",
       "    .dataframe tbody tr th {\n",
       "        vertical-align: top;\n",
       "    }\n",
       "\n",
       "    .dataframe thead th {\n",
       "        text-align: right;\n",
       "    }\n",
       "</style>\n",
       "<table border=\"1\" class=\"dataframe\">\n",
       "  <thead>\n",
       "    <tr style=\"text-align: right;\">\n",
       "      <th></th>\n",
       "      <th>State</th>\n",
       "      <th>Mode</th>\n",
       "      <th>UPT</th>\n",
       "    </tr>\n",
       "    <tr>\n",
       "      <th>datetime</th>\n",
       "      <th></th>\n",
       "      <th></th>\n",
       "      <th></th>\n",
       "    </tr>\n",
       "  </thead>\n",
       "  <tbody>\n",
       "    <tr>\n",
       "      <th>2002-01-31</th>\n",
       "      <td>AK</td>\n",
       "      <td>Bus</td>\n",
       "      <td>287620.0</td>\n",
       "    </tr>\n",
       "    <tr>\n",
       "      <th>2002-01-31</th>\n",
       "      <td>AK</td>\n",
       "      <td>Other</td>\n",
       "      <td>0.0</td>\n",
       "    </tr>\n",
       "    <tr>\n",
       "      <th>2002-01-31</th>\n",
       "      <td>AL</td>\n",
       "      <td>Bus</td>\n",
       "      <td>246000.0</td>\n",
       "    </tr>\n",
       "    <tr>\n",
       "      <th>2002-01-31</th>\n",
       "      <td>AR</td>\n",
       "      <td>Bus</td>\n",
       "      <td>0.0</td>\n",
       "    </tr>\n",
       "    <tr>\n",
       "      <th>2002-01-31</th>\n",
       "      <td>AR</td>\n",
       "      <td>Rail</td>\n",
       "      <td>0.0</td>\n",
       "    </tr>\n",
       "  </tbody>\n",
       "</table>\n",
       "</div>"
      ],
      "text/plain": [
       "           State   Mode       UPT\n",
       "datetime                         \n",
       "2002-01-31    AK    Bus  287620.0\n",
       "2002-01-31    AK  Other       0.0\n",
       "2002-01-31    AL    Bus  246000.0\n",
       "2002-01-31    AR    Bus       0.0\n",
       "2002-01-31    AR   Rail       0.0"
      ]
     },
     "execution_count": 14,
     "metadata": {},
     "output_type": "execute_result"
    }
   ],
   "source": [
    "ntd.head()"
   ]
  },
  {
   "cell_type": "code",
   "execution_count": null,
   "metadata": {},
   "outputs": [],
   "source": []
  }
 ],
 "metadata": {
  "kernelspec": {
   "display_name": "crypto-bot",
   "language": "python",
   "name": "python3"
  },
  "language_info": {
   "codemirror_mode": {
    "name": "ipython",
    "version": 3
   },
   "file_extension": ".py",
   "mimetype": "text/x-python",
   "name": "python",
   "nbconvert_exporter": "python",
   "pygments_lexer": "ipython3",
   "version": "3.9.7"
  }
 },
 "nbformat": 4,
 "nbformat_minor": 2
}
