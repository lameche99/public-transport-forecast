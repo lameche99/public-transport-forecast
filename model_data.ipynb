{
 "cells": [
  {
   "cell_type": "code",
   "execution_count": 1,
   "metadata": {},
   "outputs": [],
   "source": [
    "import pandas as pd\n",
    "from catData import getSeasons\n",
    "from fredapi import Fred\n",
    "import datetime"
   ]
  },
  {
   "cell_type": "code",
   "execution_count": 2,
   "metadata": {},
   "outputs": [],
   "source": [
    "FRED_KEY = '6d3ab641594afa0ef4eb9521b8ff6f85'\n",
    "frd = Fred(api_key=FRED_KEY)\n",
    "now = datetime.datetime.utcnow()\n",
    "start = datetime.datetime.strftime(now - datetime.timedelta(days=6971),'%Y-%m-%d')\n",
    "now = datetime.datetime.strftime(now, '%Y-%m-%d')"
   ]
  },
  {
   "cell_type": "code",
   "execution_count": 3,
   "metadata": {},
   "outputs": [],
   "source": [
    "ntd = pd.read_excel('./data/Transportation Data Initial.xlsx', sheet_name='Data')\n",
    "ntd.drop(['datetime', 'State', 'Mode', 'Region', 'Year', 'Month', 'Season'], axis=1, inplace=True)"
   ]
  },
  {
   "cell_type": "code",
   "execution_count": 4,
   "metadata": {},
   "outputs": [],
   "source": [
    "clean = ntd.groupby(['Transport Type', 'Year Month']).agg(\n",
    "    {'Unemployment': 'mean',\n",
    "     'WTI': 'mean',\n",
    "     'AutoSales': 'mean',\n",
    "     'RE': 'mean',\n",
    "     'UPT': 'sum',\n",
    "     'CPI': 'mean',\n",
    "     'CPIcn': 'mean',\n",
    "     'CPIcu': 'mean'}\n",
    ").reset_index()"
   ]
  },
  {
   "cell_type": "code",
   "execution_count": 5,
   "metadata": {},
   "outputs": [],
   "source": [
    "clean.columns = ['Mode', 'Date'] + clean.columns.tolist()[2:]\n",
    "clean['Date'] = pd.to_datetime(clean['Date'], format='%Y%m')\n",
    "clean.set_index('Date', inplace=True)\n",
    "clean['Season'] = getSeasons(dates=clean.index)\n",
    "pop = pd.DataFrame(frd.get_series('POPTHM',\n",
    "                     observation_start=start,\n",
    "                     observation_end=now))\n",
    "pop.columns = ['population']"
   ]
  },
  {
   "cell_type": "code",
   "execution_count": 6,
   "metadata": {},
   "outputs": [],
   "source": [
    "clean = clean.join(pop, how='inner', on=clean.index).drop('key_0', axis=1)\n",
    "clean['population'] *= 10e3"
   ]
  },
  {
   "cell_type": "code",
   "execution_count": 8,
   "metadata": {},
   "outputs": [],
   "source": [
    "clean['pubRate'] = clean['UPT'] / clean['population']\n",
    "clean['Unemployment'] /= 100"
   ]
  },
  {
   "cell_type": "code",
   "execution_count": 10,
   "metadata": {},
   "outputs": [],
   "source": [
    "clean.reset_index(inplace=True)\n",
    "clean.to_csv('./data/final_transportation.csv')"
   ]
  },
  {
   "cell_type": "code",
   "execution_count": null,
   "metadata": {},
   "outputs": [],
   "source": []
  }
 ],
 "metadata": {
  "kernelspec": {
   "display_name": "crypto-bot",
   "language": "python",
   "name": "python3"
  },
  "language_info": {
   "codemirror_mode": {
    "name": "ipython",
    "version": 3
   },
   "file_extension": ".py",
   "mimetype": "text/x-python",
   "name": "python",
   "nbconvert_exporter": "python",
   "pygments_lexer": "ipython3",
   "version": "3.9.7"
  }
 },
 "nbformat": 4,
 "nbformat_minor": 2
}
